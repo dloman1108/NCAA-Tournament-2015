{
 "metadata": {
  "name": "",
  "signature": "sha256:4c512097c9ba2aae36467c94952f250a7711fce9a661384c9fd6e8a89c3bf541"
 },
 "nbformat": 3,
 "nbformat_minor": 0,
 "worksheets": [
  {
   "cells": [
    {
     "cell_type": "code",
     "collapsed": false,
     "input": [
      "import mysql.connector\n",
      "import numpy as np"
     ],
     "language": "python",
     "metadata": {},
     "outputs": [],
     "prompt_number": 17
    },
    {
     "cell_type": "code",
     "collapsed": false,
     "input": [
      "filepath='/Users/DanLo1108/Documents/Projects/NCAA Tournament Project/Data/'"
     ],
     "language": "python",
     "metadata": {},
     "outputs": [],
     "prompt_number": 18
    },
    {
     "cell_type": "code",
     "collapsed": false,
     "input": [
      "cnx = mysql.connector.connect(user='root', database='NCAA_Tourney_project')\n",
      "cursor = cnx.cursor()"
     ],
     "language": "python",
     "metadata": {},
     "outputs": [],
     "prompt_number": 19
    },
    {
     "cell_type": "code",
     "collapsed": false,
     "input": [
      "#Kenpom summary data from 2003 to 2015\n",
      "\n",
      "for i in range(3,16):\n",
      "    if i < 10:\n",
      "        year='0'+str(i)\n",
      "    else:\n",
      "        year=str(i)\n",
      "    table_name='summary'+year\n",
      "    \n",
      "    create_table = ('create table ' + table_name + ' '\n",
      "                    '(TeamName char(25), '\n",
      "                    'Tempo float, '\n",
      "                    'RankTempo bigint, '\n",
      "                    'AdjTempo float, '\n",
      "                    'RankAdjTempo bigint, '\n",
      "                    'OE float, '\n",
      "                    'RankOE bigint, '\n",
      "                    'AdjOE float, '\n",
      "                    'RankAdjOE bigint, '\n",
      "                    'DE float, '\n",
      "                    'RankDE bigint, '\n",
      "                    'AdjDE float, '\n",
      "                    'RankAdjDE bigint, '\n",
      "                    'Pythag float, '\n",
      "                    'RankPythag bigint);')\n",
      "                    \n",
      "    load_data = ('load data infile \"' + filepath + table_name + '_pt.csv\" '\n",
      "                 'into table summary'+year+' FIELDS TERMINATED BY \",\" IGNORE 1 LINES;')\n",
      "   \n",
      "    cursor.execute(create_table)\n",
      "    cursor.execute(load_data)\n",
      "    \n",
      "    add_year = \"alter table \" + table_name + \" add year bigint first;\"\n",
      "    no_safe = \"SET SQL_SAFE_UPDATES = 0;\"\n",
      "    set_year = \"update \" + table_name + \" set year=20\" + year + \";\"\n",
      "    \n",
      "    cursor.execute(add_year)\n",
      "    cursor.execute(no_safe)\n",
      "    cursor.execute(set_year)\n",
      "    \n",
      "    print year"
     ],
     "language": "python",
     "metadata": {},
     "outputs": [
      {
       "output_type": "stream",
       "stream": "stdout",
       "text": [
        "03\n",
        "04"
       ]
      },
      {
       "output_type": "stream",
       "stream": "stdout",
       "text": [
        "\n",
        "05"
       ]
      },
      {
       "output_type": "stream",
       "stream": "stdout",
       "text": [
        "\n",
        "06"
       ]
      },
      {
       "output_type": "stream",
       "stream": "stdout",
       "text": [
        "\n",
        "07"
       ]
      },
      {
       "output_type": "stream",
       "stream": "stdout",
       "text": [
        "\n",
        "08"
       ]
      },
      {
       "output_type": "stream",
       "stream": "stdout",
       "text": [
        "\n",
        "09"
       ]
      },
      {
       "output_type": "stream",
       "stream": "stdout",
       "text": [
        "\n",
        "10"
       ]
      },
      {
       "output_type": "stream",
       "stream": "stdout",
       "text": [
        "\n",
        "11"
       ]
      },
      {
       "output_type": "stream",
       "stream": "stdout",
       "text": [
        "\n",
        "12"
       ]
      },
      {
       "output_type": "stream",
       "stream": "stdout",
       "text": [
        "\n",
        "13"
       ]
      },
      {
       "output_type": "stream",
       "stream": "stdout",
       "text": [
        "\n",
        "14"
       ]
      },
      {
       "output_type": "stream",
       "stream": "stdout",
       "text": [
        "\n",
        "15"
       ]
      },
      {
       "output_type": "stream",
       "stream": "stdout",
       "text": [
        "\n"
       ]
      }
     ],
     "prompt_number": 20
    },
    {
     "cell_type": "code",
     "collapsed": false,
     "input": [
      "# Offensive and defense Four Factors:\n",
      "\n",
      "for i in range(3,16):\n",
      "    if i < 10:\n",
      "        year='0'+str(i)\n",
      "    else:\n",
      "        year=str(i)\n",
      "        \n",
      "    offense_table_name='offense'+year\n",
      "    defense_table_name='defense'+year\n",
      "\n",
      "    create_table_offense = ('create table ' + offense_table_name + ' '\n",
      "                            '(TeamName char(25), '\n",
      "                            'off_eFG_Pct float, '\n",
      "                            'off_RankeFG_Pct bigint, '\n",
      "                            'off_TO_Pct float, '\n",
      "                            'off_RankTO_Pct bigint, '\n",
      "                            'off_OR_Pct float, '\n",
      "                            'off_RankOR_Pct bigint, '\n",
      "                            'off_FT_Rate float, '\n",
      "                            'off_RankFT_Rate bigint);')\n",
      "    \n",
      "    create_table_defense = ('create table ' + defense_table_name + ' '\n",
      "                            '(TeamName char(25), '\n",
      "                            'def_eFG_Pct float, '\n",
      "                            'def_RankeFG_Pct bigint, '\n",
      "                            'def_TO_Pct float, '\n",
      "                            'def_RankTO_Pct bigint, '\n",
      "                            'def_OR_Pct float, '\n",
      "                            'def_RankOR_Pct bigint, '\n",
      "                            'def_FT_Rate float, '\n",
      "                            'def_RankFT_Rate bigint);')\n",
      "                            \n",
      "    \n",
      "    load_table_offense = ('load data infile \"' + filepath + offense_table_name + '.csv\" '\n",
      "                          'into table ' + offense_table_name + ' FIELDS TERMINATED BY \",\" IGNORE 1 LINES;')\n",
      "    \n",
      "    load_table_defense = ('load data infile \"' + filepath + defense_table_name + '.csv\" '\n",
      "                          'into table ' + defense_table_name + ' FIELDS TERMINATED BY \",\" IGNORE 1 LINES;')\n",
      "    \n",
      "    \n",
      "    cursor.execute(create_table_offense)\n",
      "    cursor.execute(load_table_offense)\n",
      "    \n",
      "    cursor.execute(create_table_defense)\n",
      "    cursor.execute(load_table_defense)\n",
      "    \n",
      "    print year\n",
      "    \n",
      "    "
     ],
     "language": "python",
     "metadata": {},
     "outputs": [
      {
       "output_type": "stream",
       "stream": "stdout",
       "text": [
        "03\n",
        "04"
       ]
      },
      {
       "output_type": "stream",
       "stream": "stdout",
       "text": [
        "\n",
        "05"
       ]
      },
      {
       "output_type": "stream",
       "stream": "stdout",
       "text": [
        "\n",
        "06"
       ]
      },
      {
       "output_type": "stream",
       "stream": "stdout",
       "text": [
        "\n",
        "07"
       ]
      },
      {
       "output_type": "stream",
       "stream": "stdout",
       "text": [
        "\n",
        "08"
       ]
      },
      {
       "output_type": "stream",
       "stream": "stdout",
       "text": [
        "\n",
        "09"
       ]
      },
      {
       "output_type": "stream",
       "stream": "stdout",
       "text": [
        "\n",
        "10"
       ]
      },
      {
       "output_type": "stream",
       "stream": "stdout",
       "text": [
        "\n",
        "11"
       ]
      },
      {
       "output_type": "stream",
       "stream": "stdout",
       "text": [
        "\n",
        "12"
       ]
      },
      {
       "output_type": "stream",
       "stream": "stdout",
       "text": [
        "\n",
        "13"
       ]
      },
      {
       "output_type": "stream",
       "stream": "stdout",
       "text": [
        "\n",
        "14"
       ]
      },
      {
       "output_type": "stream",
       "stream": "stdout",
       "text": [
        "\n",
        "15"
       ]
      },
      {
       "output_type": "stream",
       "stream": "stdout",
       "text": [
        "\n"
       ]
      }
     ],
     "prompt_number": 21
    },
    {
     "cell_type": "code",
     "collapsed": false,
     "input": [
      "#Kenpom miscellaneous data from 2003 to 2014\n",
      "\n",
      "for i in range(3,16):\n",
      "    if i < 10:\n",
      "        year='0'+str(i)\n",
      "    else:\n",
      "        year=str(i)\n",
      "    table_name='misc'+year\n",
      "    \n",
      "    create_table1 = ('create table ' + table_name + ' '\n",
      "                    '(TeamName char(25), '\n",
      "                    'FG2Pct float, '\n",
      "                    'RankFG2Pct bigint, '\n",
      "                    'FG3Pct float, '\n",
      "                    'RankFG3Pct bigint, '\n",
      "                    'FTPct float, '\n",
      "                    'RankFTPct bigint, '\n",
      "                    'BlockPct float, '\n",
      "                    'RankBlockPct bigint, '\n",
      "                    'OppFG2Pct float, '\n",
      "                    'RankOppFG2Pct bigint, '\n",
      "                    'OppFG3Pct float, '\n",
      "                    'RankOppFG3Pct bigint, '\n",
      "                    'OppFTPct float, '\n",
      "                    'RankOppFTPct bigint, '\n",
      "                    'OppBlockPct float, '\n",
      "                    'RankOppBockPct bigint, '\n",
      "                    'F3GRate float, '\n",
      "                    'RankF3GRate bigint, '\n",
      "                    'OppF3GRate float, '\n",
      "                    'RankOppF3GRate bigint, '\n",
      "                    'ARate float, '\n",
      "                    'RankARate bigint, '\n",
      "                    'OppARate float, '\n",
      "                    'RankOppARate bigint, '\n",
      "                    'StlRate float, '\n",
      "                    'RankStlRate bigint, '\n",
      "                    'OppStlRate float, '\n",
      "                    'RankOppStlRate bigint, '\n",
      "                    'DefensiveFingerprint float);')\n",
      "    \n",
      "    create_table2 = ('create table ' + table_name + ' '\n",
      "                    '(TeamName char(25), '\n",
      "                    'FG2Pct float, '\n",
      "                    'RankFG2Pct bigint, '\n",
      "                    'FG3Pct float, '\n",
      "                    'RankFG3Pct bigint, '\n",
      "                    'FTPct float, '\n",
      "                    'RankFTPct bigint, '\n",
      "                    'BlockPct float, '\n",
      "                    'RankBlockPct bigint, '\n",
      "                    'OppFG2Pct float, '\n",
      "                    'RankOppFG2Pct bigint, '\n",
      "                    'OppFG3Pct float, '\n",
      "                    'RankOppFG3Pct bigint, '\n",
      "                    'OppFTPct float, '\n",
      "                    'RankOppFTPct bigint, '\n",
      "                    'OppBlockPct float, '\n",
      "                    'RankOppBockPct bigint, '\n",
      "                    'F3GRate float, '\n",
      "                    'RankF3GRate bigint, '\n",
      "                    'OppF3GRate float, '\n",
      "                    'RankOppF3GRate bigint, '\n",
      "                    'ARate float, '\n",
      "                    'RankARate bigint, '\n",
      "                    'OppARate float, '\n",
      "                    'RankOppARate bigint, '\n",
      "                    'StlRate float, '\n",
      "                    'RankStlRate bigint, '\n",
      "                    'OppStlRate float, '\n",
      "                    'RankOppStlRate bigint);')\n",
      "                    \n",
      "    load_data = ('load data infile \"' + filepath + table_name + '.csv\" '\n",
      "                 'into table misc'+year+' FIELDS TERMINATED BY \",\" IGNORE 1 LINES;')\n",
      "   \n",
      "    if i > 3 and i < 8:\n",
      "        cursor.execute(create_table2)\n",
      "    if i==3 or i >= 8:\n",
      "        cursor.execute(create_table1)\n",
      "        \n",
      "    cursor.execute(load_data)\n",
      "    \n",
      "    print year"
     ],
     "language": "python",
     "metadata": {},
     "outputs": [
      {
       "output_type": "stream",
       "stream": "stdout",
       "text": [
        "03\n",
        "04"
       ]
      },
      {
       "output_type": "stream",
       "stream": "stdout",
       "text": [
        "\n",
        "05"
       ]
      },
      {
       "output_type": "stream",
       "stream": "stdout",
       "text": [
        "\n",
        "06"
       ]
      },
      {
       "output_type": "stream",
       "stream": "stdout",
       "text": [
        "\n",
        "07"
       ]
      },
      {
       "output_type": "stream",
       "stream": "stdout",
       "text": [
        "\n",
        "08"
       ]
      },
      {
       "output_type": "stream",
       "stream": "stdout",
       "text": [
        "\n",
        "09"
       ]
      },
      {
       "output_type": "stream",
       "stream": "stdout",
       "text": [
        "\n",
        "10"
       ]
      },
      {
       "output_type": "stream",
       "stream": "stdout",
       "text": [
        "\n",
        "11"
       ]
      },
      {
       "output_type": "stream",
       "stream": "stdout",
       "text": [
        "\n",
        "12"
       ]
      },
      {
       "output_type": "stream",
       "stream": "stdout",
       "text": [
        "\n",
        "13"
       ]
      },
      {
       "output_type": "stream",
       "stream": "stdout",
       "text": [
        "\n",
        "14"
       ]
      },
      {
       "output_type": "stream",
       "stream": "stdout",
       "text": [
        "\n",
        "15"
       ]
      },
      {
       "output_type": "stream",
       "stream": "stdout",
       "text": [
        "\n"
       ]
      }
     ],
     "prompt_number": 22
    },
    {
     "cell_type": "code",
     "collapsed": false,
     "input": [
      "# Joining 4 tables and getting columns that I want:\n",
      "\n",
      "for i in range(3,16):\n",
      "    if i < 10:\n",
      "        year='0'+str(i)\n",
      "    else:\n",
      "        year=str(i)\n",
      "        \n",
      "    t1='summary'+year\n",
      "    t2='offense'+year\n",
      "    t3='defense'+year\n",
      "    t4='misc'+year\n",
      "    new_table = 'stats'+year\n",
      "    \n",
      "    join_tables = ('create table ' + new_table + ''\n",
      "                   ' as '\n",
      "                   'select year, ' + t1 + '.TeamName, AdjTempo, AdjOE, AdjDE, pythag, '\n",
      "                   'Off_eFG_pct, Off_TO_pct, Off_OR_pct, Off_FT_rate, '\n",
      "                   'Def_eFG_pct, Def_TO_pct, Def_OR_pct, Def_FT_rate, '\n",
      "                   'FG2Pct, FG3Pct, F3GRate, FTPct, ARate, BlockPct, StlRate, '\n",
      "                   'OppFG2Pct, OppFG3Pct, OppF3GRate, OppFTPct, OppARate, OppBlockPct, OppStlRate '\n",
      "                   'from ' + t1 + ' '\n",
      "                   'left join ' + t2 + ' on ' + t1 + '.TeamName=' + t2 + '.TeamName '\n",
      "                   'left join ' + t3 + ' on ' + t1 + '.TeamName=' + t3 + '.TeamName '\n",
      "                   'left join ' + t4 + ' on ' + t1 + '.TeamName=' + t4 + '.TeamName;')\n",
      "    \n",
      "    cursor.execute(join_tables)\n",
      "    print year\n",
      "\n",
      "    "
     ],
     "language": "python",
     "metadata": {},
     "outputs": [
      {
       "output_type": "stream",
       "stream": "stdout",
       "text": [
        "03\n",
        "04"
       ]
      },
      {
       "output_type": "stream",
       "stream": "stdout",
       "text": [
        "\n",
        "05"
       ]
      },
      {
       "output_type": "stream",
       "stream": "stdout",
       "text": [
        "\n",
        "06"
       ]
      },
      {
       "output_type": "stream",
       "stream": "stdout",
       "text": [
        "\n",
        "07"
       ]
      },
      {
       "output_type": "stream",
       "stream": "stdout",
       "text": [
        "\n",
        "08"
       ]
      },
      {
       "output_type": "stream",
       "stream": "stdout",
       "text": [
        "\n",
        "09"
       ]
      },
      {
       "output_type": "stream",
       "stream": "stdout",
       "text": [
        "\n",
        "10"
       ]
      },
      {
       "output_type": "stream",
       "stream": "stdout",
       "text": [
        "\n",
        "11"
       ]
      },
      {
       "output_type": "stream",
       "stream": "stdout",
       "text": [
        "\n",
        "12"
       ]
      },
      {
       "output_type": "stream",
       "stream": "stdout",
       "text": [
        "\n",
        "13"
       ]
      },
      {
       "output_type": "stream",
       "stream": "stdout",
       "text": [
        "\n",
        "14"
       ]
      },
      {
       "output_type": "stream",
       "stream": "stdout",
       "text": [
        "\n",
        "15"
       ]
      },
      {
       "output_type": "stream",
       "stream": "stdout",
       "text": [
        "\n"
       ]
      }
     ],
     "prompt_number": 23
    },
    {
     "cell_type": "code",
     "collapsed": false,
     "input": [
      "# Combine all years data\n",
      "\n",
      "combine_tables = ('create table kenpom_data as '\n",
      "                  'select * from stats03 union '\n",
      "                  'select * from stats04 union '\n",
      "                  'select * from stats05 union '\n",
      "                  'select * from stats06 union '\n",
      "                  'select * from stats07 union '\n",
      "                  'select * from stats08 union '\n",
      "                  'select * from stats09 union '\n",
      "                  'select * from stats10 union '\n",
      "                  'select * from stats11 union '\n",
      "                  'select * from stats12 union '\n",
      "                  'select * from stats13 union '\n",
      "                  'select * from stats14 union '\n",
      "                  'select * from stats15;')\n",
      "\n",
      "cursor.execute(combine_tables)"
     ],
     "language": "python",
     "metadata": {},
     "outputs": [],
     "prompt_number": 24
    },
    {
     "cell_type": "code",
     "collapsed": false,
     "input": [
      "#Save to .csv\n",
      "\n",
      "to_csv = (\"select 'year','TeamName','AdjTempo','AdjOE', \"\n",
      "          \"'AdjDE','pythag','Off_eFG_pct','Off_TO_pct','Off_OR_pct',\"\n",
      "          \"'Off_FT_rate','Def_eFG_pct','Def_TO_pct','Def_OR_pct','Def_FT_rate', \"\n",
      "          \"'FG2Pct', 'FG3Pct', 'F3GRate', 'FTPct', 'ARate', 'BlockPct', 'StlRate', \"\n",
      "          \"'OppFG2Pct', 'OppFG3Pct', 'OppF3GRate', 'OppFTPct', 'OppARate', 'OppBlockPct', 'OppStlRate' \"\n",
      "          \"from kenpom_data \"\n",
      "          \"union \"\n",
      "          \"select * from kenpom_data \"\n",
      "          \"into outfile '\" + filepath + \"kenpom_data_stage2.csv' \"\n",
      "          \"fields terminated by ',';\")\n",
      "\n",
      "cursor.execute(to_csv)"
     ],
     "language": "python",
     "metadata": {},
     "outputs": [],
     "prompt_number": 25
    },
    {
     "cell_type": "code",
     "collapsed": false,
     "input": [],
     "language": "python",
     "metadata": {},
     "outputs": []
    }
   ],
   "metadata": {}
  }
 ]
}