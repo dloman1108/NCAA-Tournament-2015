{
 "metadata": {
  "name": "",
  "signature": "sha256:8cda6d078fea5f91996bdf663325681c217047351e7bfcbabe0bad6a59aab876"
 },
 "nbformat": 3,
 "nbformat_minor": 0,
 "worksheets": [
  {
   "cells": [
    {
     "cell_type": "code",
     "collapsed": false,
     "input": [
      "import pandas as pd\n",
      "import numpy as np\n",
      "from pylab import *"
     ],
     "language": "python",
     "metadata": {},
     "outputs": [],
     "prompt_number": 1
    },
    {
     "cell_type": "code",
     "collapsed": false,
     "input": [
      "filepath='/Users/DanLo1108/Documents/NCAA Tournament Project/Data/'"
     ],
     "language": "python",
     "metadata": {},
     "outputs": [],
     "prompt_number": 2
    },
    {
     "cell_type": "code",
     "collapsed": false,
     "input": [
      "#Reads in regular season results (train), tournament results (test)\n",
      "#and kenpom data (supplemental)\n",
      "\n",
      "kenpom_data=pd.read_csv(filepath+'kenpom_data.csv')\n",
      "reg_season=pd.read_csv(filepath+'regular_season_compact_results.csv')\n",
      "tourney=pd.read_csv(filepath+'tourney_compact_results.csv')\n",
      "teams=pd.read_csv(filepath+'teams.csv')"
     ],
     "language": "python",
     "metadata": {},
     "outputs": [],
     "prompt_number": 3
    },
    {
     "cell_type": "code",
     "collapsed": false,
     "input": [
      "#Only considers regular season games played after 2002\n",
      "#and the 2011-2014 NCAA Tournaments:\n",
      "\n",
      "reg_season=reg_season[reg_season.season >= 2003]\n",
      "tourney=tourney[tourney.season >= 2003]"
     ],
     "language": "python",
     "metadata": {},
     "outputs": [],
     "prompt_number": 4
    },
    {
     "cell_type": "code",
     "collapsed": false,
     "input": [
      "#Ratio of tournament games to season games\n",
      "tourney_ratio=float(len(tourney))/len(reg_season)"
     ],
     "language": "python",
     "metadata": {},
     "outputs": [],
     "prompt_number": 5
    },
    {
     "cell_type": "code",
     "collapsed": false,
     "input": [
      "reg_season['tourney_game']=np.array([0.0]*len(reg_season))\n",
      "tourney['tourney_game']=np.array([1.0]*len(tourney))"
     ],
     "language": "python",
     "metadata": {},
     "outputs": [],
     "prompt_number": 45
    },
    {
     "cell_type": "code",
     "collapsed": false,
     "input": [
      "#Moves earlier tourneys from tourney data to regular season data\n",
      "#I'm sticking with 'reg_season' and 'tourney' as general train/test names\n",
      "\n",
      "reg_season=reg_season.append(tourney[tourney.season < 2011])\n",
      "tourney=tourney[tourney.season >= 2011]"
     ],
     "language": "python",
     "metadata": {},
     "outputs": [],
     "prompt_number": 46
    },
    {
     "cell_type": "code",
     "collapsed": false,
     "input": [
      "#Join kenpom data and teams\n",
      "\n",
      "#kenpom_data=kenpom_data.merge(teams,how='left',on='team_name')"
     ],
     "language": "python",
     "metadata": {},
     "outputs": [],
     "prompt_number": 47
    },
    {
     "cell_type": "code",
     "collapsed": false,
     "input": [
      "#Adjust for homecourt advantage:\n",
      "homecourt=pd.read_csv(filepath+'homecourt.csv')\n",
      "def get_adj_gamescore_winner(x,homecourt): \n",
      "    points = x.wscore\n",
      "    if x.wloc == 'N':\n",
      "        return points\n",
      "    if x.wloc == 'H':\n",
      "        team=x.wteam\n",
      "        point_diff=float(homecourt[homecourt.team_id == team]['point_diff'])\n",
      "        return points-point_diff/2.\n",
      "    if x.wloc == 'A':\n",
      "        team=x.lteam\n",
      "        point_diff=float(homecourt[homecourt.team_id == team]['point_diff'])\n",
      "        return points+point_diff/2.\n",
      "    \n",
      "    \n",
      "def get_adj_gamescore_loser(x,homecourt):\n",
      "    points = x.lscore\n",
      "    if x.wloc == 'N':\n",
      "        return points\n",
      "    if x.wloc == 'H':\n",
      "        team=x.wteam\n",
      "        point_diff=float(homecourt[homecourt.team_id == team]['point_diff'])\n",
      "        return points+point_diff/2.\n",
      "    if x.wloc == 'A':\n",
      "        team=x.wteam\n",
      "        point_diff=float(homecourt[homecourt.team_id == team]['point_diff'])\n",
      "        return points-point_diff/2.\n",
      "        \n",
      "reg_season['wscore']=reg_season.apply(lambda x: get_adj_gamescore_winner(x,homecourt),axis=1)\n",
      "reg_season['lscore']=reg_season.apply(lambda x: get_adj_gamescore_loser(x,homecourt),axis=1)"
     ],
     "language": "python",
     "metadata": {},
     "outputs": [],
     "prompt_number": 6
    },
    {
     "cell_type": "code",
     "collapsed": false,
     "input": [
      "#Gets the pythagorean win percentage of the winning team \n",
      "#and associated weight:\n",
      "\n",
      "def pythagorean(w_score,l_score):\n",
      "    return w_score**13.91/(w_score**13.91+l_score**13.91)\n",
      "\n",
      "def get_pythag(x):\n",
      "    if x.numot == 0:\n",
      "        return pythagorean(x.wscore,x.lscore)\n",
      "    else:\n",
      "        return .50\n",
      "    \n",
      "def get_gamescore_weight(x):\n",
      "    pyth = get_pythag(x)\n",
      "    return 1/(1-(pyth-.5))\n",
      "\n",
      "\n",
      "#I want to make regular season and tournament games weighted 50/50,\n",
      "#so I use the tourney_ratio to weigh tourney games\n",
      "\n",
      "def get_tourney_weight(x,ratio):\n",
      "    if x.tourney_game==1:\n",
      "        return 1./ratio\n",
      "    if x.tourney_game==0:\n",
      "        return 1\n",
      "        \n",
      "\n",
      "\n",
      "#Gets weight associated with the day the game was played on:\n",
      "def get_day_weight(x):\n",
      "    day=x.daynum\n",
      "    return (float(day)/132)**4/2+1\n",
      "\n",
      "#Gets total weight based on day weight and game score weight:\n",
      "def get_total_weight(x,tourney_ratio):\n",
      "    day_weight=get_day_weight(x)\n",
      "    score_weight=get_gamescore_weight(x)\n",
      "    tourney_weight=get_tourney_weight(x,tourney_ratio)\n",
      "    \n",
      "    return day_weight*score_weight*tourney_weight\n",
      "    \n",
      "    \n",
      "reg_season['game_weight']=reg_season.apply(lambda x: get_total_weight(x,tourney_ratio),axis=1)"
     ],
     "language": "python",
     "metadata": {},
     "outputs": [],
     "prompt_number": 49
    },
    {
     "cell_type": "code",
     "collapsed": false,
     "input": [
      "pyth=1\n",
      "#1/(1-(pyth-.5))\n",
      "1/(1.5-pyth)"
     ],
     "language": "python",
     "metadata": {},
     "outputs": [
      {
       "metadata": {},
       "output_type": "pyout",
       "prompt_number": 10,
       "text": [
        "2.0"
       ]
      }
     ],
     "prompt_number": 10
    },
    {
     "cell_type": "code",
     "collapsed": false,
     "input": [
      "#Randomly assign teams as team_1 and team_2, and set\n",
      "#result=1 if team_1 was the winner\n",
      "import random\n",
      "def assign_teams(df):\n",
      "    team_1=[]\n",
      "    team_2=[]\n",
      "    result=[]\n",
      "    for ind in df.index.values:\n",
      "        d=df.ix[ind]\n",
      "        a=random.random()\n",
      "        if a < .5:\n",
      "            team_1.append(d.wteam)\n",
      "            team_2.append(d.lteam)\n",
      "            result.append(1)\n",
      "        else:\n",
      "            team_1.append(d.lteam)\n",
      "            team_2.append(d.wteam)\n",
      "            result.append(0)\n",
      "    df['team_1'] = np.array(team_1)\n",
      "    df['team_2'] = np.array(team_2)\n",
      "    df['result'] = np.array(result)"
     ],
     "language": "python",
     "metadata": {},
     "outputs": [],
     "prompt_number": 50
    },
    {
     "cell_type": "code",
     "collapsed": false,
     "input": [
      "assign_teams(reg_season)\n",
      "reg_season = reg_season.drop(['daynum','wteam','wscore','lteam','lscore','numot','tourney_game'],axis=1)"
     ],
     "language": "python",
     "metadata": {},
     "outputs": [],
     "prompt_number": 51
    },
    {
     "cell_type": "code",
     "collapsed": false,
     "input": [
      "assign_teams(tourney)\n",
      "tourney = tourney.drop(['daynum','wteam','wscore','lteam','lscore','numot','tourney_game'],axis=1)"
     ],
     "language": "python",
     "metadata": {},
     "outputs": [],
     "prompt_number": 52
    },
    {
     "cell_type": "code",
     "collapsed": false,
     "input": [
      "#Gets features from kenpom_data\n",
      "kenpom_data.columns.tolist()\n",
      "not_features=['season','team_name','team_id']\n",
      "features=[col for col in kenpom_data.columns.tolist() if col not in not_features]"
     ],
     "language": "python",
     "metadata": {},
     "outputs": [],
     "prompt_number": 53
    },
    {
     "cell_type": "code",
     "collapsed": false,
     "input": [
      "def get_feature(x,team_num,feat,data):\n",
      "    team=x[team_num]\n",
      "    seas=x.season\n",
      "    if len(data[data.team_id==team][data.season==seas][feat] > 0):\n",
      "        return float(data[data.team_id==team][data.season==seas][feat])\n",
      "    else:\n",
      "        return np.nan"
     ],
     "language": "python",
     "metadata": {},
     "outputs": [],
     "prompt_number": 54
    },
    {
     "cell_type": "code",
     "collapsed": false,
     "input": [
      "#*** THIS TAKES A LONG TIME\n",
      "\n",
      "#Get features for team 1 in regular season \n",
      "for feat in features:\n",
      "    col_name='team_1_'+feat\n",
      "    reg_season[col_name]=reg_season.apply(lambda x: get_feature(x,'team_1',feat,kenpom_data),axis=1)\n",
      "    print col_name\n",
      "    \n",
      "#Get features for team 2 in regular season\n",
      "for feat in features:\n",
      "    col_name='team_2_'+feat\n",
      "    reg_season[col_name]=reg_season.apply(lambda x: get_feature(x,'team_2',feat,kenpom_data),axis=1)\n",
      "    print col_name"
     ],
     "language": "python",
     "metadata": {},
     "outputs": [
      {
       "output_type": "stream",
       "stream": "stdout",
       "text": [
        "team_1_Unnamed: 0\n",
        "team_1_AdjTempo"
       ]
      },
      {
       "output_type": "stream",
       "stream": "stdout",
       "text": [
        "\n",
        "team_1_AdjOE"
       ]
      },
      {
       "output_type": "stream",
       "stream": "stdout",
       "text": [
        "\n",
        "team_1_AdjDE"
       ]
      },
      {
       "output_type": "stream",
       "stream": "stdout",
       "text": [
        "\n",
        "team_1_pythag"
       ]
      },
      {
       "output_type": "stream",
       "stream": "stdout",
       "text": [
        "\n",
        "team_1_Off_eFG_pct"
       ]
      },
      {
       "output_type": "stream",
       "stream": "stdout",
       "text": [
        "\n",
        "team_1_Off_TO_pct"
       ]
      },
      {
       "output_type": "stream",
       "stream": "stdout",
       "text": [
        "\n",
        "team_1_Off_OR_pct"
       ]
      },
      {
       "output_type": "stream",
       "stream": "stdout",
       "text": [
        "\n",
        "team_1_Off_FT_rate"
       ]
      },
      {
       "output_type": "stream",
       "stream": "stdout",
       "text": [
        "\n",
        "team_1_Def_eFG_pct"
       ]
      },
      {
       "output_type": "stream",
       "stream": "stdout",
       "text": [
        "\n",
        "team_1_Def_TO_pct"
       ]
      },
      {
       "output_type": "stream",
       "stream": "stdout",
       "text": [
        "\n",
        "team_1_Def_OR_pct"
       ]
      },
      {
       "output_type": "stream",
       "stream": "stdout",
       "text": [
        "\n",
        "team_1_Def_FT_rate"
       ]
      },
      {
       "output_type": "stream",
       "stream": "stdout",
       "text": [
        "\n",
        "team_1_FG2Pct"
       ]
      },
      {
       "output_type": "stream",
       "stream": "stdout",
       "text": [
        "\n",
        "team_1_FG3Pct"
       ]
      },
      {
       "output_type": "stream",
       "stream": "stdout",
       "text": [
        "\n",
        "team_1_F3GRate"
       ]
      },
      {
       "output_type": "stream",
       "stream": "stdout",
       "text": [
        "\n",
        "team_1_FTPct"
       ]
      },
      {
       "output_type": "stream",
       "stream": "stdout",
       "text": [
        "\n",
        "team_1_ARate"
       ]
      },
      {
       "output_type": "stream",
       "stream": "stdout",
       "text": [
        "\n",
        "team_1_BlockPct"
       ]
      },
      {
       "output_type": "stream",
       "stream": "stdout",
       "text": [
        "\n",
        "team_1_StlRate"
       ]
      },
      {
       "output_type": "stream",
       "stream": "stdout",
       "text": [
        "\n",
        "team_1_OppFG2Pct"
       ]
      },
      {
       "output_type": "stream",
       "stream": "stdout",
       "text": [
        "\n",
        "team_1_OppFG3Pct"
       ]
      },
      {
       "output_type": "stream",
       "stream": "stdout",
       "text": [
        "\n",
        "team_1_OppF3GRate"
       ]
      },
      {
       "output_type": "stream",
       "stream": "stdout",
       "text": [
        "\n",
        "team_1_OppFTPct"
       ]
      },
      {
       "output_type": "stream",
       "stream": "stdout",
       "text": [
        "\n",
        "team_1_OppARate"
       ]
      },
      {
       "output_type": "stream",
       "stream": "stdout",
       "text": [
        "\n",
        "team_1_OppBlockPct"
       ]
      },
      {
       "output_type": "stream",
       "stream": "stdout",
       "text": [
        "\n",
        "team_1_OppStlRate"
       ]
      },
      {
       "output_type": "stream",
       "stream": "stdout",
       "text": [
        "\n",
        "team_2_Unnamed: 0"
       ]
      },
      {
       "output_type": "stream",
       "stream": "stdout",
       "text": [
        "\n",
        "team_2_AdjTempo"
       ]
      },
      {
       "output_type": "stream",
       "stream": "stdout",
       "text": [
        "\n",
        "team_2_AdjOE"
       ]
      },
      {
       "output_type": "stream",
       "stream": "stdout",
       "text": [
        "\n",
        "team_2_AdjDE"
       ]
      },
      {
       "output_type": "stream",
       "stream": "stdout",
       "text": [
        "\n",
        "team_2_pythag"
       ]
      },
      {
       "output_type": "stream",
       "stream": "stdout",
       "text": [
        "\n",
        "team_2_Off_eFG_pct"
       ]
      },
      {
       "output_type": "stream",
       "stream": "stdout",
       "text": [
        "\n",
        "team_2_Off_TO_pct"
       ]
      },
      {
       "output_type": "stream",
       "stream": "stdout",
       "text": [
        "\n",
        "team_2_Off_OR_pct"
       ]
      },
      {
       "output_type": "stream",
       "stream": "stdout",
       "text": [
        "\n",
        "team_2_Off_FT_rate"
       ]
      },
      {
       "output_type": "stream",
       "stream": "stdout",
       "text": [
        "\n",
        "team_2_Def_eFG_pct"
       ]
      },
      {
       "output_type": "stream",
       "stream": "stdout",
       "text": [
        "\n",
        "team_2_Def_TO_pct"
       ]
      },
      {
       "output_type": "stream",
       "stream": "stdout",
       "text": [
        "\n",
        "team_2_Def_OR_pct"
       ]
      },
      {
       "output_type": "stream",
       "stream": "stdout",
       "text": [
        "\n",
        "team_2_Def_FT_rate"
       ]
      },
      {
       "output_type": "stream",
       "stream": "stdout",
       "text": [
        "\n",
        "team_2_FG2Pct"
       ]
      },
      {
       "output_type": "stream",
       "stream": "stdout",
       "text": [
        "\n",
        "team_2_FG3Pct"
       ]
      },
      {
       "output_type": "stream",
       "stream": "stdout",
       "text": [
        "\n",
        "team_2_F3GRate"
       ]
      },
      {
       "output_type": "stream",
       "stream": "stdout",
       "text": [
        "\n",
        "team_2_FTPct"
       ]
      },
      {
       "output_type": "stream",
       "stream": "stdout",
       "text": [
        "\n",
        "team_2_ARate"
       ]
      },
      {
       "output_type": "stream",
       "stream": "stdout",
       "text": [
        "\n",
        "team_2_BlockPct"
       ]
      },
      {
       "output_type": "stream",
       "stream": "stdout",
       "text": [
        "\n",
        "team_2_StlRate"
       ]
      },
      {
       "output_type": "stream",
       "stream": "stdout",
       "text": [
        "\n",
        "team_2_OppFG2Pct"
       ]
      },
      {
       "output_type": "stream",
       "stream": "stdout",
       "text": [
        "\n",
        "team_2_OppFG3Pct"
       ]
      },
      {
       "output_type": "stream",
       "stream": "stdout",
       "text": [
        "\n",
        "team_2_OppF3GRate"
       ]
      },
      {
       "output_type": "stream",
       "stream": "stdout",
       "text": [
        "\n",
        "team_2_OppFTPct"
       ]
      },
      {
       "output_type": "stream",
       "stream": "stdout",
       "text": [
        "\n",
        "team_2_OppARate"
       ]
      },
      {
       "output_type": "stream",
       "stream": "stdout",
       "text": [
        "\n",
        "team_2_OppBlockPct"
       ]
      },
      {
       "output_type": "stream",
       "stream": "stdout",
       "text": [
        "\n",
        "team_2_OppStlRate"
       ]
      },
      {
       "output_type": "stream",
       "stream": "stdout",
       "text": [
        "\n"
       ]
      },
      {
       "output_type": "stream",
       "stream": "stderr",
       "text": [
        "/Library/Frameworks/Python.framework/Versions/2.7/lib/python2.7/site-packages/pandas/core/frame.py:1706: UserWarning: Boolean Series key will be reindexed to match DataFrame index.\n",
        "  \"DataFrame index.\", UserWarning)\n"
       ]
      }
     ],
     "prompt_number": 55
    },
    {
     "cell_type": "code",
     "collapsed": false,
     "input": [
      "#***THIS ALSO TAKES A LONG TIME\n",
      "\n",
      "#Get features for team 1 in tourney\n",
      "for feat in features:\n",
      "    col_name='team_1_'+feat\n",
      "    tourney[col_name]=tourney.apply(lambda x: get_feature(x,'team_1',feat,kenpom_data),axis=1)\n",
      "    print col_name\n",
      "    \n",
      "#Get features for team 2 in tourney\n",
      "for feat in features:\n",
      "    col_name='team_2_'+feat\n",
      "    tourney[col_name]=tourney.apply(lambda x: get_feature(x,'team_2',feat,kenpom_data),axis=1)\n",
      "    print col_name"
     ],
     "language": "python",
     "metadata": {},
     "outputs": [
      {
       "output_type": "stream",
       "stream": "stdout",
       "text": [
        "team_1_Unnamed: 0\n",
        "team_1_AdjTempo"
       ]
      },
      {
       "output_type": "stream",
       "stream": "stdout",
       "text": [
        "\n",
        "team_1_AdjOE"
       ]
      },
      {
       "output_type": "stream",
       "stream": "stdout",
       "text": [
        "\n",
        "team_1_AdjDE"
       ]
      },
      {
       "output_type": "stream",
       "stream": "stdout",
       "text": [
        "\n",
        "team_1_pythag"
       ]
      },
      {
       "output_type": "stream",
       "stream": "stdout",
       "text": [
        "\n",
        "team_1_Off_eFG_pct"
       ]
      },
      {
       "output_type": "stream",
       "stream": "stdout",
       "text": [
        "\n",
        "team_1_Off_TO_pct"
       ]
      },
      {
       "output_type": "stream",
       "stream": "stdout",
       "text": [
        "\n",
        "team_1_Off_OR_pct"
       ]
      },
      {
       "output_type": "stream",
       "stream": "stdout",
       "text": [
        "\n",
        "team_1_Off_FT_rate"
       ]
      },
      {
       "output_type": "stream",
       "stream": "stdout",
       "text": [
        "\n",
        "team_1_Def_eFG_pct"
       ]
      },
      {
       "output_type": "stream",
       "stream": "stdout",
       "text": [
        "\n",
        "team_1_Def_TO_pct"
       ]
      },
      {
       "output_type": "stream",
       "stream": "stdout",
       "text": [
        "\n",
        "team_1_Def_OR_pct"
       ]
      },
      {
       "output_type": "stream",
       "stream": "stdout",
       "text": [
        "\n",
        "team_1_Def_FT_rate"
       ]
      },
      {
       "output_type": "stream",
       "stream": "stdout",
       "text": [
        "\n",
        "team_1_FG2Pct"
       ]
      },
      {
       "output_type": "stream",
       "stream": "stdout",
       "text": [
        "\n",
        "team_1_FG3Pct"
       ]
      },
      {
       "output_type": "stream",
       "stream": "stdout",
       "text": [
        "\n",
        "team_1_F3GRate"
       ]
      },
      {
       "output_type": "stream",
       "stream": "stdout",
       "text": [
        "\n",
        "team_1_FTPct"
       ]
      },
      {
       "output_type": "stream",
       "stream": "stdout",
       "text": [
        "\n",
        "team_1_ARate"
       ]
      },
      {
       "output_type": "stream",
       "stream": "stdout",
       "text": [
        "\n",
        "team_1_BlockPct"
       ]
      },
      {
       "output_type": "stream",
       "stream": "stdout",
       "text": [
        "\n",
        "team_1_StlRate"
       ]
      },
      {
       "output_type": "stream",
       "stream": "stdout",
       "text": [
        "\n",
        "team_1_OppFG2Pct"
       ]
      },
      {
       "output_type": "stream",
       "stream": "stdout",
       "text": [
        "\n",
        "team_1_OppFG3Pct"
       ]
      },
      {
       "output_type": "stream",
       "stream": "stdout",
       "text": [
        "\n",
        "team_1_OppF3GRate"
       ]
      },
      {
       "output_type": "stream",
       "stream": "stdout",
       "text": [
        "\n",
        "team_1_OppFTPct"
       ]
      },
      {
       "output_type": "stream",
       "stream": "stdout",
       "text": [
        "\n",
        "team_1_OppARate"
       ]
      },
      {
       "output_type": "stream",
       "stream": "stdout",
       "text": [
        "\n",
        "team_1_OppBlockPct"
       ]
      },
      {
       "output_type": "stream",
       "stream": "stdout",
       "text": [
        "\n",
        "team_1_OppStlRate"
       ]
      },
      {
       "output_type": "stream",
       "stream": "stdout",
       "text": [
        "\n",
        "team_2_Unnamed: 0"
       ]
      },
      {
       "output_type": "stream",
       "stream": "stdout",
       "text": [
        "\n",
        "team_2_AdjTempo"
       ]
      },
      {
       "output_type": "stream",
       "stream": "stdout",
       "text": [
        "\n",
        "team_2_AdjOE"
       ]
      },
      {
       "output_type": "stream",
       "stream": "stdout",
       "text": [
        "\n",
        "team_2_AdjDE"
       ]
      },
      {
       "output_type": "stream",
       "stream": "stdout",
       "text": [
        "\n",
        "team_2_pythag"
       ]
      },
      {
       "output_type": "stream",
       "stream": "stdout",
       "text": [
        "\n",
        "team_2_Off_eFG_pct"
       ]
      },
      {
       "output_type": "stream",
       "stream": "stdout",
       "text": [
        "\n",
        "team_2_Off_TO_pct"
       ]
      },
      {
       "output_type": "stream",
       "stream": "stdout",
       "text": [
        "\n",
        "team_2_Off_OR_pct"
       ]
      },
      {
       "output_type": "stream",
       "stream": "stdout",
       "text": [
        "\n",
        "team_2_Off_FT_rate"
       ]
      },
      {
       "output_type": "stream",
       "stream": "stdout",
       "text": [
        "\n",
        "team_2_Def_eFG_pct"
       ]
      },
      {
       "output_type": "stream",
       "stream": "stdout",
       "text": [
        "\n",
        "team_2_Def_TO_pct"
       ]
      },
      {
       "output_type": "stream",
       "stream": "stdout",
       "text": [
        "\n",
        "team_2_Def_OR_pct"
       ]
      },
      {
       "output_type": "stream",
       "stream": "stdout",
       "text": [
        "\n",
        "team_2_Def_FT_rate"
       ]
      },
      {
       "output_type": "stream",
       "stream": "stdout",
       "text": [
        "\n",
        "team_2_FG2Pct"
       ]
      },
      {
       "output_type": "stream",
       "stream": "stdout",
       "text": [
        "\n",
        "team_2_FG3Pct"
       ]
      },
      {
       "output_type": "stream",
       "stream": "stdout",
       "text": [
        "\n",
        "team_2_F3GRate"
       ]
      },
      {
       "output_type": "stream",
       "stream": "stdout",
       "text": [
        "\n",
        "team_2_FTPct"
       ]
      },
      {
       "output_type": "stream",
       "stream": "stdout",
       "text": [
        "\n",
        "team_2_ARate"
       ]
      },
      {
       "output_type": "stream",
       "stream": "stdout",
       "text": [
        "\n",
        "team_2_BlockPct"
       ]
      },
      {
       "output_type": "stream",
       "stream": "stdout",
       "text": [
        "\n",
        "team_2_StlRate"
       ]
      },
      {
       "output_type": "stream",
       "stream": "stdout",
       "text": [
        "\n",
        "team_2_OppFG2Pct"
       ]
      },
      {
       "output_type": "stream",
       "stream": "stdout",
       "text": [
        "\n",
        "team_2_OppFG3Pct"
       ]
      },
      {
       "output_type": "stream",
       "stream": "stdout",
       "text": [
        "\n",
        "team_2_OppF3GRate"
       ]
      },
      {
       "output_type": "stream",
       "stream": "stdout",
       "text": [
        "\n",
        "team_2_OppFTPct"
       ]
      },
      {
       "output_type": "stream",
       "stream": "stdout",
       "text": [
        "\n",
        "team_2_OppARate"
       ]
      },
      {
       "output_type": "stream",
       "stream": "stdout",
       "text": [
        "\n",
        "team_2_OppBlockPct"
       ]
      },
      {
       "output_type": "stream",
       "stream": "stdout",
       "text": [
        "\n",
        "team_2_OppStlRate"
       ]
      },
      {
       "output_type": "stream",
       "stream": "stdout",
       "text": [
        "\n"
       ]
      }
     ],
     "prompt_number": 56
    },
    {
     "cell_type": "code",
     "collapsed": false,
     "input": [
      "#Drops unneeded columns from reg_season and saves to .csv\n",
      "r=reg_season.drop(['season','wloc','team_1','team_2','team_1_Unnamed: 0','team_2_Unnamed: 0'],axis=1)\n",
      "r.to_csv(filepath+'reg_season_train.csv',index=False)"
     ],
     "language": "python",
     "metadata": {},
     "outputs": [],
     "prompt_number": 59
    },
    {
     "cell_type": "code",
     "collapsed": false,
     "input": [
      "#Drops unneeded columns from tourney and saves to .csv\n",
      "t=tourney.drop(['season','wloc','team_1','team_2','team_1_Unnamed: 0','team_2_Unnamed: 0'],axis=1)\n",
      "t.to_csv(filepath+'tourney_test.csv',index=False)"
     ],
     "language": "python",
     "metadata": {},
     "outputs": [],
     "prompt_number": 58
    },
    {
     "cell_type": "code",
     "collapsed": false,
     "input": [],
     "language": "python",
     "metadata": {},
     "outputs": []
    }
   ],
   "metadata": {}
  }
 ]
}