{
 "metadata": {
  "name": "",
  "signature": "sha256:fb9b1db9c165949e85434aa1d89d06ce743d9f7c7bd72b5142d7bc15acfa4834"
 },
 "nbformat": 3,
 "nbformat_minor": 0,
 "worksheets": [
  {
   "cells": [
    {
     "cell_type": "code",
     "collapsed": false,
     "input": [
      "from bs4 import BeautifulSoup\n",
      "import numpy as np\n",
      "import pandas as pd\n",
      "import urllib2\n",
      "import re"
     ],
     "language": "python",
     "metadata": {},
     "outputs": [],
     "prompt_number": 253
    },
    {
     "cell_type": "code",
     "collapsed": false,
     "input": [
      "url='http://www.predictionmachine.com/college-basketball-homecourt-advantage'\n",
      "filepath='/Users/DanLo1108/Documents/NCAA Tournament Project/Data/'"
     ],
     "language": "python",
     "metadata": {},
     "outputs": [],
     "prompt_number": 254
    },
    {
     "cell_type": "code",
     "collapsed": false,
     "input": [
      "#Gets contents of url web page\n",
      "request=urllib2.Request(url)\n",
      "page = urllib2.urlopen(request)"
     ],
     "language": "python",
     "metadata": {},
     "outputs": [],
     "prompt_number": 7
    },
    {
     "cell_type": "code",
     "collapsed": false,
     "input": [
      "#Reads contents of page\n",
      "content=page.read()\n",
      "soup=BeautifulSoup(content,'lxml')"
     ],
     "language": "python",
     "metadata": {},
     "outputs": [],
     "prompt_number": 9
    },
    {
     "cell_type": "code",
     "collapsed": false,
     "input": [
      "#Finds results of table\n",
      "results=soup.find_all({'table':'standard sortable'})"
     ],
     "language": "python",
     "metadata": {},
     "outputs": [],
     "prompt_number": 18
    },
    {
     "cell_type": "code",
     "collapsed": false,
     "input": [
      "#Puts results of table into arrays teams and points\n",
      "results=soup('table')[1].find_all('td')\n",
      "teams=[]\n",
      "points=[]\n",
      "i=0\n",
      "for r in results:\n",
      "    for item in r:\n",
      "        if np.mod(i,3) == 1:\n",
      "            teams.append(item.strip('\\r\\n\\t\\t\\t\\t'))\n",
      "        if np.mod(i,3) == 2:\n",
      "            points.append(item.strip('\\r\\n\\t\\t\\t\\t'))\n",
      "            \n",
      "        i+=1\n",
      "            \n",
      "teams=np.array(teams)\n",
      "points=np.array(points)"
     ],
     "language": "python",
     "metadata": {},
     "outputs": [],
     "prompt_number": 247
    },
    {
     "cell_type": "code",
     "collapsed": false,
     "input": [
      "#Changes type and format of points\n",
      "def get_points(x):\n",
      "    if '(' in x:\n",
      "        points=re.sub('\\(','-',x)\n",
      "        points=re.sub('\\)','',points)\n",
      "        return float(points)\n",
      "    else:\n",
      "        points=x\n",
      "        return float(points)\n",
      "    \n",
      "points = np.array(map(lambda x: get_points(x), points))"
     ],
     "language": "python",
     "metadata": {},
     "outputs": [],
     "prompt_number": 248
    },
    {
     "cell_type": "code",
     "collapsed": false,
     "input": [
      "#Saves to pandas dataframe\n",
      "homecourt=pd.DataFrame({'team_name':teams,'point_diff':points})"
     ],
     "language": "python",
     "metadata": {},
     "outputs": [],
     "prompt_number": 250
    },
    {
     "cell_type": "code",
     "collapsed": false,
     "input": [
      "homecourt.to_csv(filepath+'homecourt.csv',index=False)"
     ],
     "language": "python",
     "metadata": {},
     "outputs": [],
     "prompt_number": 255
    },
    {
     "cell_type": "code",
     "collapsed": false,
     "input": [],
     "language": "python",
     "metadata": {},
     "outputs": []
    }
   ],
   "metadata": {}
  }
 ]
}